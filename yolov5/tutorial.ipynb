{
 "cells": [
  {
   "cell_type": "markdown",
   "metadata": {
    "id": "t6MPjfT5NrKQ"
   },
   "source": [
    "<div align=\"center\">\n",
    "  <a href=\"https://ultralytics.com/yolo\" target=\"_blank\">\n",
    "    <img width=\"1024\" src=\"https://raw.githubusercontent.com/ultralytics/assets/main/yolov5/v70/splash.png\">\n",
    "  </a>\n",
    "\n",
    "  [中文](https://docs.ultralytics.com/zh/) | [한국어](https://docs.ultralytics.com/ko/) | [日本語](https://docs.ultralytics.com/ja/) | [Русский](https://docs.ultralytics.com/ru/) | [Deutsch](https://docs.ultralytics.com/de/) | [Français](https://docs.ultralytics.com/fr/) | [Español](https://docs.ultralytics.com/es/) | [Português](https://docs.ultralytics.com/pt/) | [Türkçe](https://docs.ultralytics.com/tr/) | [Tiếng Việt](https://docs.ultralytics.com/vi/) | [العربية](https://docs.ultralytics.com/ar/)\n",
    "\n",
    "  <a href=\"https://github.com/ultralytics/ultralytics/actions/workflows/ci.yml\"><img src=\"https://github.com/ultralytics/ultralytics/actions/workflows/ci.yml/badge.svg\" alt=\"Ultralytics CI\"></a>\n",
    "  <a href=\"https://console.paperspace.com/github/ultralytics/ultralytics\"><img src=\"https://assets.paperspace.io/img/gradient-badge.svg\" alt=\"Run on Gradient\"/></a>\n",
    "  <a href=\"https://colab.research.google.com/github/ultralytics/yolov5/blob/master/tutorial.ipynb\"><img src=\"https://colab.research.google.com/assets/colab-badge.svg\" alt=\"Open In Colab\"></a>\n",
    "  <a href=\"https://www.kaggle.com/models/ultralytics/yolo11\"><img src=\"https://kaggle.com/static/images/open-in-kaggle.svg\" alt=\"Open In Kaggle\"></a>\n",
    "\n",
    "  <a href=\"https://ultralytics.com/discord\"><img alt=\"Discord\" src=\"https://img.shields.io/discord/1089800235347353640?logo=discord&logoColor=white&label=Discord&color=blue\"></a>\n",
    "  <a href=\"https://community.ultralytics.com\"><img alt=\"Ultralytics Forums\" src=\"https://img.shields.io/discourse/users?server=https%3A%2F%2Fcommunity.ultralytics.com&logo=discourse&label=Forums&color=blue\"></a>\n",
    "  <a href=\"https://reddit.com/r/ultralytics\"><img alt=\"Ultralytics Reddit\" src=\"https://img.shields.io/reddit/subreddit-subscribers/ultralytics?style=flat&logo=reddit&logoColor=white&label=Reddit&color=blue\"></a>\n",
    "</div>\n",
    "\n",
    "This **Ultralytics YOLOv5 Colab Notebook** is the easiest way to get started with [YOLO models](https://www.ultralytics.com/yolo)—no installation needed. Built by [Ultralytics](https://www.ultralytics.com/), the creators of YOLO, this notebook walks you through running **state-of-the-art** models directly in your browser.\n",
    "\n",
    "Ultralytics models are constantly updated for performance and flexibility. They're **fast**, **accurate**, and **easy to use**, and they excel at [object detection](https://docs.ultralytics.com/tasks/detect/), [tracking](https://docs.ultralytics.com/modes/track/), [instance segmentation](https://docs.ultralytics.com/tasks/segment/), [image classification](https://docs.ultralytics.com/tasks/classify/), and [pose estimation](https://docs.ultralytics.com/tasks/pose/).\n",
    "\n",
    "Find detailed documentation in the [Ultralytics Docs](https://docs.ultralytics.com/). Get support via [GitHub Issues](https://github.com/ultralytics/ultralytics/issues/new/choose). Join discussions on [Discord](https://discord.com/invite/ultralytics), [Reddit](https://www.reddit.com/r/ultralytics/), and the [Ultralytics Community Forums](https://community.ultralytics.com/)!\n",
    "\n",
    "Request an Enterprise License for commercial use at [Ultralytics Licensing](https://www.ultralytics.com/license).\n",
    "\n",
    "<br>\n",
    "<div>\n",
    "  <a href=\"https://www.youtube.com/watch?v=ZN3nRZT7b24\" target=\"_blank\">\n",
    "    <img src=\"https://img.youtube.com/vi/ZN3nRZT7b24/maxresdefault.jpg\" alt=\"Ultralytics Video\" width=\"640\" style=\"border-radius: 10px; box-shadow: 0 4px 8px rgba(0, 0, 0, 0.2);\">\n",
    "  </a>\n",
    "\n",
    "  <p style=\"font-size: 16px; font-family: Arial, sans-serif; color: #555;\">\n",
    "    <strong>Watch: </strong> How to Train\n",
    "    <a href=\"https://github.com/ultralytics/ultralytics\">Ultralytics</a>\n",
    "    <a href=\"https://docs.ultralytics.com/models/yolo11/\">YOLO11</a> Model on Custom Dataset using Google Colab Notebook 🚀\n",
    "  </p>\n",
    "</div>"
   ]
  },
  {
   "cell_type": "markdown",
   "metadata": {
    "id": "7mGmQbAO5pQb"
   },
   "source": [
    "# Setup\n",
    "\n",
    "Clone GitHub [repository](https://github.com/ultralytics/yolov5), install [dependencies](https://github.com/ultralytics/yolov5/blob/master/requirements.txt) and check PyTorch and GPU."
   ]
  },
  {
   "cell_type": "code",
   "execution_count": 1,
   "metadata": {
    "colab": {
     "base_uri": "https://localhost:8080/"
    },
    "id": "wbvMlHd_QwMG",
    "outputId": "e8225db4-e61d-4640-8b1f-8bfce3331cea"
   },
   "outputs": [
    {
     "name": "stderr",
     "output_type": "stream",
     "text": [
      "YOLOv5 🚀 v7.0-422-g2540fd4c Python-3.9.23 torch-1.13.1+cu117 CUDA:0 (NVIDIA RTX 4500 Ada Generation, 24090MiB)\n"
     ]
    },
    {
     "name": "stdout",
     "output_type": "stream",
     "text": [
      "Setup complete ✅ (20 CPUs, 62.0 GB RAM, 1055.1/1876.2 GB disk)\n"
     ]
    }
   ],
   "source": [
    "# !git clone https://github.com/ultralytics/yolov5  # clone\n",
    "# %cd yolov5\n",
    "# %pip install -qr requirements.txt comet_ml  # install\n",
    "\n",
    "import torch\n",
    "import utils\n",
    "display = utils.notebook_init()  # checks"
   ]
  },
  {
   "cell_type": "markdown",
   "metadata": {
    "id": "4JnkELT0cIJg"
   },
   "source": [
    "# 1. Detect\n",
    "\n",
    "`detect.py` runs YOLOv5 inference on a variety of sources, downloading models automatically from the [latest YOLOv5 release](https://github.com/ultralytics/yolov5/releases), and saving results to `runs/detect`. Example inference sources are:\n",
    "\n",
    "```shell\n",
    "python detect.py --source 0  # webcam\n",
    "                          img.jpg  # image\n",
    "                          vid.mp4  # video\n",
    "                          screen  # screenshot\n",
    "                          path/  # directory\n",
    "                         'path/*.jpg'  # glob\n",
    "                         'https://youtu.be/LNwODJXcvt4'  # YouTube\n",
    "                         'rtsp://example.com/media.mp4'  # RTSP, RTMP, HTTP stream\n",
    "```"
   ]
  },
  {
   "cell_type": "code",
   "execution_count": 3,
   "metadata": {
    "colab": {
     "base_uri": "https://localhost:8080/"
    },
    "id": "zR9ZbuQCH7FX",
    "outputId": "284ef04b-1596-412f-88f6-948828dd2b49"
   },
   "outputs": [
    {
     "name": "stdout",
     "output_type": "stream",
     "text": [
      "\u001b[34m\u001b[1mdetect: \u001b[0mweights=['yolov5s.pt'], source=/home/icclab/Documents/playground/label_anything/data/YoutubeVideos/Fly_over_the_Oceans.mp4, data=data/coco128.yaml, imgsz=[640, 640], conf_thres=0.25, iou_thres=0.45, max_det=1000, device=, view_img=False, save_txt=False, save_format=0, save_csv=False, save_conf=False, save_crop=False, nosave=False, classes=None, agnostic_nms=False, augment=False, visualize=False, update=False, project=runs/detect, name=exp, exist_ok=False, line_thickness=3, hide_labels=False, hide_conf=False, half=False, dnn=False, vid_stride=1\n",
      "YOLOv5 🚀 v7.0-422-g2540fd4c Python-3.9.23 torch-1.13.1+cu117 CUDA:0 (NVIDIA RTX 4500 Ada Generation, 24090MiB)\n",
      "\n",
      "Downloading https://github.com/ultralytics/yolov5/releases/download/v7.0/yolov5s.pt to yolov5s.pt...\n",
      "100%|██████████████████████████████████████| 14.1M/14.1M [00:00<00:00, 59.9MB/s]\n",
      "\n",
      "Fusing layers... \n",
      "YOLOv5s summary: 213 layers, 7225885 parameters, 0 gradients\n",
      "video 1/1 (1/239) /home/icclab/Documents/playground/label_anything/data/YoutubeVideos/Fly_over_the_Oceans.mp4: 640x384 (no detections), 11.7ms\n",
      "video 1/1 (2/239) /home/icclab/Documents/playground/label_anything/data/YoutubeVideos/Fly_over_the_Oceans.mp4: 640x384 5 kites, 5.3ms\n",
      "video 1/1 (3/239) /home/icclab/Documents/playground/label_anything/data/YoutubeVideos/Fly_over_the_Oceans.mp4: 640x384 5 kites, 5.2ms\n",
      "video 1/1 (4/239) /home/icclab/Documents/playground/label_anything/data/YoutubeVideos/Fly_over_the_Oceans.mp4: 640x384 5 kites, 5.4ms\n",
      "video 1/1 (5/239) /home/icclab/Documents/playground/label_anything/data/YoutubeVideos/Fly_over_the_Oceans.mp4: 640x384 5 kites, 5.4ms\n",
      "video 1/1 (6/239) /home/icclab/Documents/playground/label_anything/data/YoutubeVideos/Fly_over_the_Oceans.mp4: 640x384 5 kites, 5.4ms\n",
      "video 1/1 (7/239) /home/icclab/Documents/playground/label_anything/data/YoutubeVideos/Fly_over_the_Oceans.mp4: 640x384 5 kites, 5.4ms\n",
      "video 1/1 (8/239) /home/icclab/Documents/playground/label_anything/data/YoutubeVideos/Fly_over_the_Oceans.mp4: 640x384 5 kites, 5.8ms\n",
      "video 1/1 (9/239) /home/icclab/Documents/playground/label_anything/data/YoutubeVideos/Fly_over_the_Oceans.mp4: 640x384 5 kites, 5.6ms\n",
      "video 1/1 (10/239) /home/icclab/Documents/playground/label_anything/data/YoutubeVideos/Fly_over_the_Oceans.mp4: 640x384 5 kites, 6.0ms\n",
      "video 1/1 (11/239) /home/icclab/Documents/playground/label_anything/data/YoutubeVideos/Fly_over_the_Oceans.mp4: 640x384 5 kites, 5.6ms\n",
      "video 1/1 (12/239) /home/icclab/Documents/playground/label_anything/data/YoutubeVideos/Fly_over_the_Oceans.mp4: 640x384 4 kites, 5.4ms\n",
      "video 1/1 (13/239) /home/icclab/Documents/playground/label_anything/data/YoutubeVideos/Fly_over_the_Oceans.mp4: 640x384 4 kites, 5.2ms\n",
      "video 1/1 (14/239) /home/icclab/Documents/playground/label_anything/data/YoutubeVideos/Fly_over_the_Oceans.mp4: 640x384 4 kites, 5.4ms\n",
      "video 1/1 (15/239) /home/icclab/Documents/playground/label_anything/data/YoutubeVideos/Fly_over_the_Oceans.mp4: 640x384 4 kites, 5.2ms\n",
      "video 1/1 (16/239) /home/icclab/Documents/playground/label_anything/data/YoutubeVideos/Fly_over_the_Oceans.mp4: 640x384 4 kites, 5.2ms\n",
      "video 1/1 (17/239) /home/icclab/Documents/playground/label_anything/data/YoutubeVideos/Fly_over_the_Oceans.mp4: 640x384 3 kites, 5.3ms\n",
      "video 1/1 (18/239) /home/icclab/Documents/playground/label_anything/data/YoutubeVideos/Fly_over_the_Oceans.mp4: 640x384 4 kites, 5.2ms\n",
      "video 1/1 (19/239) /home/icclab/Documents/playground/label_anything/data/YoutubeVideos/Fly_over_the_Oceans.mp4: 640x384 4 kites, 5.3ms\n",
      "video 1/1 (20/239) /home/icclab/Documents/playground/label_anything/data/YoutubeVideos/Fly_over_the_Oceans.mp4: 640x384 5 kites, 5.1ms\n",
      "video 1/1 (21/239) /home/icclab/Documents/playground/label_anything/data/YoutubeVideos/Fly_over_the_Oceans.mp4: 640x384 3 kites, 5.3ms\n",
      "video 1/1 (22/239) /home/icclab/Documents/playground/label_anything/data/YoutubeVideos/Fly_over_the_Oceans.mp4: 640x384 4 kites, 5.2ms\n",
      "video 1/1 (23/239) /home/icclab/Documents/playground/label_anything/data/YoutubeVideos/Fly_over_the_Oceans.mp4: 640x384 5 kites, 5.2ms\n",
      "video 1/1 (24/239) /home/icclab/Documents/playground/label_anything/data/YoutubeVideos/Fly_over_the_Oceans.mp4: 640x384 4 kites, 5.1ms\n",
      "video 1/1 (25/239) /home/icclab/Documents/playground/label_anything/data/YoutubeVideos/Fly_over_the_Oceans.mp4: 640x384 4 kites, 5.2ms\n",
      "video 1/1 (26/239) /home/icclab/Documents/playground/label_anything/data/YoutubeVideos/Fly_over_the_Oceans.mp4: 640x384 5 kites, 5.1ms\n",
      "video 1/1 (27/239) /home/icclab/Documents/playground/label_anything/data/YoutubeVideos/Fly_over_the_Oceans.mp4: 640x384 4 kites, 5.1ms\n",
      "video 1/1 (28/239) /home/icclab/Documents/playground/label_anything/data/YoutubeVideos/Fly_over_the_Oceans.mp4: 640x384 4 kites, 5.5ms\n",
      "video 1/1 (29/239) /home/icclab/Documents/playground/label_anything/data/YoutubeVideos/Fly_over_the_Oceans.mp4: 640x384 5 kites, 5.4ms\n",
      "video 1/1 (30/239) /home/icclab/Documents/playground/label_anything/data/YoutubeVideos/Fly_over_the_Oceans.mp4: 640x384 5 kites, 5.4ms\n",
      "video 1/1 (31/239) /home/icclab/Documents/playground/label_anything/data/YoutubeVideos/Fly_over_the_Oceans.mp4: 640x384 3 kites, 5.2ms\n",
      "video 1/1 (32/239) /home/icclab/Documents/playground/label_anything/data/YoutubeVideos/Fly_over_the_Oceans.mp4: 640x384 5 kites, 5.3ms\n",
      "video 1/1 (33/239) /home/icclab/Documents/playground/label_anything/data/YoutubeVideos/Fly_over_the_Oceans.mp4: 640x384 6 kites, 5.2ms\n",
      "video 1/1 (34/239) /home/icclab/Documents/playground/label_anything/data/YoutubeVideos/Fly_over_the_Oceans.mp4: 640x384 4 kites, 5.3ms\n",
      "video 1/1 (35/239) /home/icclab/Documents/playground/label_anything/data/YoutubeVideos/Fly_over_the_Oceans.mp4: 640x384 5 kites, 5.4ms\n",
      "video 1/1 (36/239) /home/icclab/Documents/playground/label_anything/data/YoutubeVideos/Fly_over_the_Oceans.mp4: 640x384 5 kites, 5.2ms\n",
      "video 1/1 (37/239) /home/icclab/Documents/playground/label_anything/data/YoutubeVideos/Fly_over_the_Oceans.mp4: 640x384 4 kites, 5.1ms\n",
      "video 1/1 (38/239) /home/icclab/Documents/playground/label_anything/data/YoutubeVideos/Fly_over_the_Oceans.mp4: 640x384 4 kites, 5.1ms\n",
      "video 1/1 (39/239) /home/icclab/Documents/playground/label_anything/data/YoutubeVideos/Fly_over_the_Oceans.mp4: 640x384 4 kites, 5.1ms\n",
      "video 1/1 (40/239) /home/icclab/Documents/playground/label_anything/data/YoutubeVideos/Fly_over_the_Oceans.mp4: 640x384 4 kites, 5.1ms\n",
      "video 1/1 (41/239) /home/icclab/Documents/playground/label_anything/data/YoutubeVideos/Fly_over_the_Oceans.mp4: 640x384 4 kites, 5.2ms\n",
      "video 1/1 (42/239) /home/icclab/Documents/playground/label_anything/data/YoutubeVideos/Fly_over_the_Oceans.mp4: 640x384 4 kites, 5.4ms\n",
      "video 1/1 (43/239) /home/icclab/Documents/playground/label_anything/data/YoutubeVideos/Fly_over_the_Oceans.mp4: 640x384 5 kites, 5.3ms\n",
      "video 1/1 (44/239) /home/icclab/Documents/playground/label_anything/data/YoutubeVideos/Fly_over_the_Oceans.mp4: 640x384 4 kites, 5.2ms\n",
      "video 1/1 (45/239) /home/icclab/Documents/playground/label_anything/data/YoutubeVideos/Fly_over_the_Oceans.mp4: 640x384 5 kites, 5.1ms\n",
      "video 1/1 (46/239) /home/icclab/Documents/playground/label_anything/data/YoutubeVideos/Fly_over_the_Oceans.mp4: 640x384 5 kites, 5.4ms\n",
      "video 1/1 (47/239) /home/icclab/Documents/playground/label_anything/data/YoutubeVideos/Fly_over_the_Oceans.mp4: 640x384 5 kites, 5.2ms\n",
      "video 1/1 (48/239) /home/icclab/Documents/playground/label_anything/data/YoutubeVideos/Fly_over_the_Oceans.mp4: 640x384 5 kites, 5.2ms\n",
      "video 1/1 (49/239) /home/icclab/Documents/playground/label_anything/data/YoutubeVideos/Fly_over_the_Oceans.mp4: 640x384 5 kites, 5.7ms\n",
      "video 1/1 (50/239) /home/icclab/Documents/playground/label_anything/data/YoutubeVideos/Fly_over_the_Oceans.mp4: 640x384 5 kites, 5.4ms\n",
      "video 1/1 (51/239) /home/icclab/Documents/playground/label_anything/data/YoutubeVideos/Fly_over_the_Oceans.mp4: 640x384 5 kites, 5.2ms\n",
      "video 1/1 (52/239) /home/icclab/Documents/playground/label_anything/data/YoutubeVideos/Fly_over_the_Oceans.mp4: 640x384 5 kites, 5.1ms\n",
      "video 1/1 (53/239) /home/icclab/Documents/playground/label_anything/data/YoutubeVideos/Fly_over_the_Oceans.mp4: 640x384 5 kites, 5.1ms\n",
      "video 1/1 (54/239) /home/icclab/Documents/playground/label_anything/data/YoutubeVideos/Fly_over_the_Oceans.mp4: 640x384 5 kites, 5.3ms\n",
      "video 1/1 (55/239) /home/icclab/Documents/playground/label_anything/data/YoutubeVideos/Fly_over_the_Oceans.mp4: 640x384 5 kites, 5.0ms\n",
      "video 1/1 (56/239) /home/icclab/Documents/playground/label_anything/data/YoutubeVideos/Fly_over_the_Oceans.mp4: 640x384 5 kites, 5.2ms\n",
      "video 1/1 (57/239) /home/icclab/Documents/playground/label_anything/data/YoutubeVideos/Fly_over_the_Oceans.mp4: 640x384 4 kites, 5.2ms\n",
      "video 1/1 (58/239) /home/icclab/Documents/playground/label_anything/data/YoutubeVideos/Fly_over_the_Oceans.mp4: 640x384 5 kites, 5.2ms\n",
      "video 1/1 (59/239) /home/icclab/Documents/playground/label_anything/data/YoutubeVideos/Fly_over_the_Oceans.mp4: 640x384 5 kites, 5.2ms\n",
      "video 1/1 (60/239) /home/icclab/Documents/playground/label_anything/data/YoutubeVideos/Fly_over_the_Oceans.mp4: 640x384 5 kites, 5.2ms\n",
      "video 1/1 (61/239) /home/icclab/Documents/playground/label_anything/data/YoutubeVideos/Fly_over_the_Oceans.mp4: 640x384 5 kites, 5.2ms\n",
      "video 1/1 (62/239) /home/icclab/Documents/playground/label_anything/data/YoutubeVideos/Fly_over_the_Oceans.mp4: 640x384 5 kites, 5.1ms\n",
      "video 1/1 (63/239) /home/icclab/Documents/playground/label_anything/data/YoutubeVideos/Fly_over_the_Oceans.mp4: 640x384 5 kites, 5.4ms\n",
      "video 1/1 (64/239) /home/icclab/Documents/playground/label_anything/data/YoutubeVideos/Fly_over_the_Oceans.mp4: 640x384 5 kites, 5.5ms\n",
      "video 1/1 (65/239) /home/icclab/Documents/playground/label_anything/data/YoutubeVideos/Fly_over_the_Oceans.mp4: 640x384 4 kites, 5.4ms\n",
      "video 1/1 (66/239) /home/icclab/Documents/playground/label_anything/data/YoutubeVideos/Fly_over_the_Oceans.mp4: 640x384 5 kites, 5.3ms\n",
      "video 1/1 (67/239) /home/icclab/Documents/playground/label_anything/data/YoutubeVideos/Fly_over_the_Oceans.mp4: 640x384 4 kites, 5.4ms\n",
      "video 1/1 (68/239) /home/icclab/Documents/playground/label_anything/data/YoutubeVideos/Fly_over_the_Oceans.mp4: 640x384 4 kites, 5.4ms\n",
      "video 1/1 (69/239) /home/icclab/Documents/playground/label_anything/data/YoutubeVideos/Fly_over_the_Oceans.mp4: 640x384 4 kites, 5.8ms\n",
      "video 1/1 (70/239) /home/icclab/Documents/playground/label_anything/data/YoutubeVideos/Fly_over_the_Oceans.mp4: 640x384 4 kites, 5.8ms\n",
      "video 1/1 (71/239) /home/icclab/Documents/playground/label_anything/data/YoutubeVideos/Fly_over_the_Oceans.mp4: 640x384 4 kites, 5.6ms\n",
      "video 1/1 (72/239) /home/icclab/Documents/playground/label_anything/data/YoutubeVideos/Fly_over_the_Oceans.mp4: 640x384 3 kites, 5.7ms\n",
      "video 1/1 (73/239) /home/icclab/Documents/playground/label_anything/data/YoutubeVideos/Fly_over_the_Oceans.mp4: 640x384 4 kites, 6.4ms\n",
      "video 1/1 (74/239) /home/icclab/Documents/playground/label_anything/data/YoutubeVideos/Fly_over_the_Oceans.mp4: 640x384 4 kites, 6.1ms\n",
      "video 1/1 (75/239) /home/icclab/Documents/playground/label_anything/data/YoutubeVideos/Fly_over_the_Oceans.mp4: 640x384 3 kites, 5.9ms\n",
      "video 1/1 (76/239) /home/icclab/Documents/playground/label_anything/data/YoutubeVideos/Fly_over_the_Oceans.mp4: 640x384 4 kites, 6.0ms\n",
      "video 1/1 (77/239) /home/icclab/Documents/playground/label_anything/data/YoutubeVideos/Fly_over_the_Oceans.mp4: 640x384 3 kites, 6.1ms\n",
      "video 1/1 (78/239) /home/icclab/Documents/playground/label_anything/data/YoutubeVideos/Fly_over_the_Oceans.mp4: 640x384 1 airplane, 3 kites, 6.0ms\n",
      "video 1/1 (79/239) /home/icclab/Documents/playground/label_anything/data/YoutubeVideos/Fly_over_the_Oceans.mp4: 640x384 1 airplane, 3 kites, 6.1ms\n",
      "video 1/1 (80/239) /home/icclab/Documents/playground/label_anything/data/YoutubeVideos/Fly_over_the_Oceans.mp4: 640x384 1 airplane, 2 kites, 6.2ms\n",
      "video 1/1 (81/239) /home/icclab/Documents/playground/label_anything/data/YoutubeVideos/Fly_over_the_Oceans.mp4: 640x384 1 airplane, 2 kites, 6.1ms\n",
      "video 1/1 (82/239) /home/icclab/Documents/playground/label_anything/data/YoutubeVideos/Fly_over_the_Oceans.mp4: 640x384 1 airplane, 2 kites, 5.6ms\n",
      "video 1/1 (83/239) /home/icclab/Documents/playground/label_anything/data/YoutubeVideos/Fly_over_the_Oceans.mp4: 640x384 1 airplane, 2 kites, 5.4ms\n",
      "video 1/1 (84/239) /home/icclab/Documents/playground/label_anything/data/YoutubeVideos/Fly_over_the_Oceans.mp4: 640x384 3 kites, 5.3ms\n",
      "video 1/1 (85/239) /home/icclab/Documents/playground/label_anything/data/YoutubeVideos/Fly_over_the_Oceans.mp4: 640x384 3 kites, 5.4ms\n",
      "video 1/1 (86/239) /home/icclab/Documents/playground/label_anything/data/YoutubeVideos/Fly_over_the_Oceans.mp4: 640x384 3 kites, 5.4ms\n",
      "video 1/1 (87/239) /home/icclab/Documents/playground/label_anything/data/YoutubeVideos/Fly_over_the_Oceans.mp4: 640x384 3 kites, 5.3ms\n",
      "video 1/1 (88/239) /home/icclab/Documents/playground/label_anything/data/YoutubeVideos/Fly_over_the_Oceans.mp4: 640x384 1 airplane, 3 kites, 5.6ms\n",
      "video 1/1 (89/239) /home/icclab/Documents/playground/label_anything/data/YoutubeVideos/Fly_over_the_Oceans.mp4: 640x384 3 kites, 5.5ms\n",
      "video 1/1 (90/239) /home/icclab/Documents/playground/label_anything/data/YoutubeVideos/Fly_over_the_Oceans.mp4: 640x384 1 airplane, 3 kites, 5.5ms\n",
      "video 1/1 (91/239) /home/icclab/Documents/playground/label_anything/data/YoutubeVideos/Fly_over_the_Oceans.mp4: 640x384 1 airplane, 2 kites, 5.4ms\n",
      "video 1/1 (92/239) /home/icclab/Documents/playground/label_anything/data/YoutubeVideos/Fly_over_the_Oceans.mp4: 640x384 1 airplane, 3 kites, 5.3ms\n",
      "video 1/1 (93/239) /home/icclab/Documents/playground/label_anything/data/YoutubeVideos/Fly_over_the_Oceans.mp4: 640x384 1 person, 2 kites, 5.4ms\n",
      "video 1/1 (94/239) /home/icclab/Documents/playground/label_anything/data/YoutubeVideos/Fly_over_the_Oceans.mp4: 640x384 1 person, 2 kites, 5.3ms\n",
      "video 1/1 (95/239) /home/icclab/Documents/playground/label_anything/data/YoutubeVideos/Fly_over_the_Oceans.mp4: 640x384 1 airplane, 1 kite, 5.4ms\n",
      "video 1/1 (96/239) /home/icclab/Documents/playground/label_anything/data/YoutubeVideos/Fly_over_the_Oceans.mp4: 640x384 1 airplane, 2 kites, 5.3ms\n",
      "video 1/1 (97/239) /home/icclab/Documents/playground/label_anything/data/YoutubeVideos/Fly_over_the_Oceans.mp4: 640x384 1 airplane, 1 kite, 5.4ms\n",
      "video 1/1 (98/239) /home/icclab/Documents/playground/label_anything/data/YoutubeVideos/Fly_over_the_Oceans.mp4: 640x384 1 airplane, 1 kite, 5.3ms\n",
      "video 1/1 (99/239) /home/icclab/Documents/playground/label_anything/data/YoutubeVideos/Fly_over_the_Oceans.mp4: 640x384 1 airplane, 1 kite, 5.4ms\n",
      "video 1/1 (100/239) /home/icclab/Documents/playground/label_anything/data/YoutubeVideos/Fly_over_the_Oceans.mp4: 640x384 2 airplanes, 5.9ms\n",
      "video 1/1 (101/239) /home/icclab/Documents/playground/label_anything/data/YoutubeVideos/Fly_over_the_Oceans.mp4: 640x384 1 airplane, 1 kite, 5.6ms\n",
      "video 1/1 (102/239) /home/icclab/Documents/playground/label_anything/data/YoutubeVideos/Fly_over_the_Oceans.mp4: 640x384 2 airplanes, 5.0ms\n",
      "video 1/1 (103/239) /home/icclab/Documents/playground/label_anything/data/YoutubeVideos/Fly_over_the_Oceans.mp4: 640x384 1 airplane, 1 kite, 5.3ms\n",
      "video 1/1 (104/239) /home/icclab/Documents/playground/label_anything/data/YoutubeVideos/Fly_over_the_Oceans.mp4: 640x384 1 airplane, 1 kite, 5.4ms\n",
      "video 1/1 (105/239) /home/icclab/Documents/playground/label_anything/data/YoutubeVideos/Fly_over_the_Oceans.mp4: 640x384 1 airplane, 1 kite, 5.3ms\n",
      "video 1/1 (106/239) /home/icclab/Documents/playground/label_anything/data/YoutubeVideos/Fly_over_the_Oceans.mp4: 640x384 1 airplane, 5.3ms\n",
      "video 1/1 (107/239) /home/icclab/Documents/playground/label_anything/data/YoutubeVideos/Fly_over_the_Oceans.mp4: 640x384 2 airplanes, 5.6ms\n",
      "video 1/1 (108/239) /home/icclab/Documents/playground/label_anything/data/YoutubeVideos/Fly_over_the_Oceans.mp4: 640x384 1 airplane, 1 kite, 5.9ms\n",
      "video 1/1 (109/239) /home/icclab/Documents/playground/label_anything/data/YoutubeVideos/Fly_over_the_Oceans.mp4: 640x384 1 airplane, 1 kite, 5.8ms\n",
      "video 1/1 (110/239) /home/icclab/Documents/playground/label_anything/data/YoutubeVideos/Fly_over_the_Oceans.mp4: 640x384 1 airplane, 5.9ms\n",
      "video 1/1 (111/239) /home/icclab/Documents/playground/label_anything/data/YoutubeVideos/Fly_over_the_Oceans.mp4: 640x384 2 airplanes, 1 kite, 5.4ms\n",
      "video 1/1 (112/239) /home/icclab/Documents/playground/label_anything/data/YoutubeVideos/Fly_over_the_Oceans.mp4: 640x384 1 airplane, 1 kite, 5.4ms\n",
      "video 1/1 (113/239) /home/icclab/Documents/playground/label_anything/data/YoutubeVideos/Fly_over_the_Oceans.mp4: 640x384 2 airplanes, 5.3ms\n",
      "video 1/1 (114/239) /home/icclab/Documents/playground/label_anything/data/YoutubeVideos/Fly_over_the_Oceans.mp4: 640x384 1 airplane, 5.4ms\n",
      "video 1/1 (115/239) /home/icclab/Documents/playground/label_anything/data/YoutubeVideos/Fly_over_the_Oceans.mp4: 640x384 1 airplane, 5.3ms\n",
      "video 1/1 (116/239) /home/icclab/Documents/playground/label_anything/data/YoutubeVideos/Fly_over_the_Oceans.mp4: 640x384 1 airplane, 1 boat, 5.2ms\n",
      "video 1/1 (117/239) /home/icclab/Documents/playground/label_anything/data/YoutubeVideos/Fly_over_the_Oceans.mp4: 640x384 1 airplane, 1 boat, 5.4ms\n",
      "video 1/1 (118/239) /home/icclab/Documents/playground/label_anything/data/YoutubeVideos/Fly_over_the_Oceans.mp4: 640x384 1 airplane, 1 boat, 5.2ms\n",
      "video 1/1 (119/239) /home/icclab/Documents/playground/label_anything/data/YoutubeVideos/Fly_over_the_Oceans.mp4: 640x384 1 airplane, 1 boat, 5.2ms\n",
      "video 1/1 (120/239) /home/icclab/Documents/playground/label_anything/data/YoutubeVideos/Fly_over_the_Oceans.mp4: 640x384 1 airplane, 1 boat, 5.2ms\n",
      "video 1/1 (121/239) /home/icclab/Documents/playground/label_anything/data/YoutubeVideos/Fly_over_the_Oceans.mp4: 640x384 2 airplanes, 5.3ms\n",
      "video 1/1 (122/239) /home/icclab/Documents/playground/label_anything/data/YoutubeVideos/Fly_over_the_Oceans.mp4: 640x384 1 airplane, 1 boat, 5.3ms\n",
      "video 1/1 (123/239) /home/icclab/Documents/playground/label_anything/data/YoutubeVideos/Fly_over_the_Oceans.mp4: 640x384 1 airplane, 5.2ms\n",
      "video 1/1 (124/239) /home/icclab/Documents/playground/label_anything/data/YoutubeVideos/Fly_over_the_Oceans.mp4: 640x384 1 airplane, 1 boat, 5.4ms\n",
      "video 1/1 (125/239) /home/icclab/Documents/playground/label_anything/data/YoutubeVideos/Fly_over_the_Oceans.mp4: 640x384 1 airplane, 5.3ms\n",
      "video 1/1 (126/239) /home/icclab/Documents/playground/label_anything/data/YoutubeVideos/Fly_over_the_Oceans.mp4: 640x384 1 airplane, 1 kite, 5.4ms\n",
      "video 1/1 (127/239) /home/icclab/Documents/playground/label_anything/data/YoutubeVideos/Fly_over_the_Oceans.mp4: 640x384 1 airplane, 5.2ms\n",
      "video 1/1 (128/239) /home/icclab/Documents/playground/label_anything/data/YoutubeVideos/Fly_over_the_Oceans.mp4: 640x384 1 airplane, 5.8ms\n",
      "video 1/1 (129/239) /home/icclab/Documents/playground/label_anything/data/YoutubeVideos/Fly_over_the_Oceans.mp4: 640x384 1 airplane, 5.4ms\n",
      "video 1/1 (130/239) /home/icclab/Documents/playground/label_anything/data/YoutubeVideos/Fly_over_the_Oceans.mp4: 640x384 1 airplane, 5.5ms\n",
      "video 1/1 (131/239) /home/icclab/Documents/playground/label_anything/data/YoutubeVideos/Fly_over_the_Oceans.mp4: 640x384 1 airplane, 5.3ms\n",
      "video 1/1 (132/239) /home/icclab/Documents/playground/label_anything/data/YoutubeVideos/Fly_over_the_Oceans.mp4: 640x384 1 airplane, 1 boat, 5.4ms\n",
      "video 1/1 (133/239) /home/icclab/Documents/playground/label_anything/data/YoutubeVideos/Fly_over_the_Oceans.mp4: 640x384 1 airplane, 1 boat, 5.3ms\n",
      "video 1/1 (134/239) /home/icclab/Documents/playground/label_anything/data/YoutubeVideos/Fly_over_the_Oceans.mp4: 640x384 1 airplane, 5.1ms\n",
      "video 1/1 (135/239) /home/icclab/Documents/playground/label_anything/data/YoutubeVideos/Fly_over_the_Oceans.mp4: 640x384 1 airplane, 5.2ms\n",
      "video 1/1 (136/239) /home/icclab/Documents/playground/label_anything/data/YoutubeVideos/Fly_over_the_Oceans.mp4: 640x384 1 airplane, 1 boat, 5.3ms\n",
      "video 1/1 (137/239) /home/icclab/Documents/playground/label_anything/data/YoutubeVideos/Fly_over_the_Oceans.mp4: 640x384 1 airplane, 1 boat, 1 kite, 5.2ms\n",
      "video 1/1 (138/239) /home/icclab/Documents/playground/label_anything/data/YoutubeVideos/Fly_over_the_Oceans.mp4: 640x384 1 airplane, 1 kite, 5.2ms\n",
      "video 1/1 (139/239) /home/icclab/Documents/playground/label_anything/data/YoutubeVideos/Fly_over_the_Oceans.mp4: 640x384 1 airplane, 5.2ms\n",
      "video 1/1 (140/239) /home/icclab/Documents/playground/label_anything/data/YoutubeVideos/Fly_over_the_Oceans.mp4: 640x384 1 airplane, 1 boat, 5.3ms\n",
      "video 1/1 (141/239) /home/icclab/Documents/playground/label_anything/data/YoutubeVideos/Fly_over_the_Oceans.mp4: 640x384 1 airplane, 5.2ms\n",
      "video 1/1 (142/239) /home/icclab/Documents/playground/label_anything/data/YoutubeVideos/Fly_over_the_Oceans.mp4: 640x384 1 airplane, 5.3ms\n",
      "video 1/1 (143/239) /home/icclab/Documents/playground/label_anything/data/YoutubeVideos/Fly_over_the_Oceans.mp4: 640x384 1 airplane, 5.3ms\n",
      "video 1/1 (144/239) /home/icclab/Documents/playground/label_anything/data/YoutubeVideos/Fly_over_the_Oceans.mp4: 640x384 1 airplane, 5.3ms\n",
      "video 1/1 (145/239) /home/icclab/Documents/playground/label_anything/data/YoutubeVideos/Fly_over_the_Oceans.mp4: 640x384 1 airplane, 5.3ms\n",
      "video 1/1 (146/239) /home/icclab/Documents/playground/label_anything/data/YoutubeVideos/Fly_over_the_Oceans.mp4: 640x384 1 airplane, 1 boat, 5.3ms\n",
      "video 1/1 (147/239) /home/icclab/Documents/playground/label_anything/data/YoutubeVideos/Fly_over_the_Oceans.mp4: 640x384 1 airplane, 1 boat, 5.3ms\n",
      "video 1/1 (148/239) /home/icclab/Documents/playground/label_anything/data/YoutubeVideos/Fly_over_the_Oceans.mp4: 640x384 1 airplane, 5.1ms\n",
      "video 1/1 (149/239) /home/icclab/Documents/playground/label_anything/data/YoutubeVideos/Fly_over_the_Oceans.mp4: 640x384 1 airplane, 5.8ms\n",
      "video 1/1 (150/239) /home/icclab/Documents/playground/label_anything/data/YoutubeVideos/Fly_over_the_Oceans.mp4: 640x384 1 airplane, 5.7ms\n",
      "video 1/1 (151/239) /home/icclab/Documents/playground/label_anything/data/YoutubeVideos/Fly_over_the_Oceans.mp4: 640x384 1 airplane, 1 kite, 5.5ms\n",
      "video 1/1 (152/239) /home/icclab/Documents/playground/label_anything/data/YoutubeVideos/Fly_over_the_Oceans.mp4: 640x384 1 airplane, 5.4ms\n",
      "video 1/1 (153/239) /home/icclab/Documents/playground/label_anything/data/YoutubeVideos/Fly_over_the_Oceans.mp4: 640x384 1 airplane, 6.2ms\n",
      "video 1/1 (154/239) /home/icclab/Documents/playground/label_anything/data/YoutubeVideos/Fly_over_the_Oceans.mp4: 640x384 1 airplane, 5.7ms\n",
      "video 1/1 (155/239) /home/icclab/Documents/playground/label_anything/data/YoutubeVideos/Fly_over_the_Oceans.mp4: 640x384 1 airplane, 5.3ms\n",
      "video 1/1 (156/239) /home/icclab/Documents/playground/label_anything/data/YoutubeVideos/Fly_over_the_Oceans.mp4: 640x384 1 airplane, 5.4ms\n",
      "video 1/1 (157/239) /home/icclab/Documents/playground/label_anything/data/YoutubeVideos/Fly_over_the_Oceans.mp4: 640x384 1 airplane, 5.3ms\n",
      "video 1/1 (158/239) /home/icclab/Documents/playground/label_anything/data/YoutubeVideos/Fly_over_the_Oceans.mp4: 640x384 1 airplane, 5.2ms\n",
      "video 1/1 (159/239) /home/icclab/Documents/playground/label_anything/data/YoutubeVideos/Fly_over_the_Oceans.mp4: 640x384 1 airplane, 5.2ms\n",
      "video 1/1 (160/239) /home/icclab/Documents/playground/label_anything/data/YoutubeVideos/Fly_over_the_Oceans.mp4: 640x384 1 airplane, 5.7ms\n",
      "video 1/1 (161/239) /home/icclab/Documents/playground/label_anything/data/YoutubeVideos/Fly_over_the_Oceans.mp4: 640x384 1 airplane, 1 kite, 5.7ms\n",
      "video 1/1 (162/239) /home/icclab/Documents/playground/label_anything/data/YoutubeVideos/Fly_over_the_Oceans.mp4: 640x384 1 airplane, 1 kite, 5.3ms\n",
      "video 1/1 (163/239) /home/icclab/Documents/playground/label_anything/data/YoutubeVideos/Fly_over_the_Oceans.mp4: 640x384 1 airplane, 1 kite, 5.1ms\n",
      "video 1/1 (164/239) /home/icclab/Documents/playground/label_anything/data/YoutubeVideos/Fly_over_the_Oceans.mp4: 640x384 1 airplane, 1 kite, 5.3ms\n",
      "video 1/1 (165/239) /home/icclab/Documents/playground/label_anything/data/YoutubeVideos/Fly_over_the_Oceans.mp4: 640x384 1 kite, 5.2ms\n",
      "video 1/1 (166/239) /home/icclab/Documents/playground/label_anything/data/YoutubeVideos/Fly_over_the_Oceans.mp4: 640x384 1 kite, 5.2ms\n",
      "video 1/1 (167/239) /home/icclab/Documents/playground/label_anything/data/YoutubeVideos/Fly_over_the_Oceans.mp4: 640x384 1 kite, 5.3ms\n",
      "video 1/1 (168/239) /home/icclab/Documents/playground/label_anything/data/YoutubeVideos/Fly_over_the_Oceans.mp4: 640x384 1 kite, 5.3ms\n",
      "video 1/1 (169/239) /home/icclab/Documents/playground/label_anything/data/YoutubeVideos/Fly_over_the_Oceans.mp4: 640x384 1 kite, 5.4ms\n",
      "video 1/1 (170/239) /home/icclab/Documents/playground/label_anything/data/YoutubeVideos/Fly_over_the_Oceans.mp4: 640x384 1 kite, 5.9ms\n",
      "video 1/1 (171/239) /home/icclab/Documents/playground/label_anything/data/YoutubeVideos/Fly_over_the_Oceans.mp4: 640x384 1 kite, 5.5ms\n",
      "video 1/1 (172/239) /home/icclab/Documents/playground/label_anything/data/YoutubeVideos/Fly_over_the_Oceans.mp4: 640x384 1 kite, 5.6ms\n",
      "video 1/1 (173/239) /home/icclab/Documents/playground/label_anything/data/YoutubeVideos/Fly_over_the_Oceans.mp4: 640x384 1 kite, 5.4ms\n",
      "video 1/1 (174/239) /home/icclab/Documents/playground/label_anything/data/YoutubeVideos/Fly_over_the_Oceans.mp4: 640x384 1 kite, 5.6ms\n",
      "video 1/1 (175/239) /home/icclab/Documents/playground/label_anything/data/YoutubeVideos/Fly_over_the_Oceans.mp4: 640x384 1 kite, 5.3ms\n",
      "video 1/1 (176/239) /home/icclab/Documents/playground/label_anything/data/YoutubeVideos/Fly_over_the_Oceans.mp4: 640x384 1 kite, 5.3ms\n",
      "video 1/1 (177/239) /home/icclab/Documents/playground/label_anything/data/YoutubeVideos/Fly_over_the_Oceans.mp4: 640x384 1 airplane, 5.2ms\n",
      "video 1/1 (178/239) /home/icclab/Documents/playground/label_anything/data/YoutubeVideos/Fly_over_the_Oceans.mp4: 640x384 1 kite, 5.4ms\n",
      "video 1/1 (179/239) /home/icclab/Documents/playground/label_anything/data/YoutubeVideos/Fly_over_the_Oceans.mp4: 640x384 1 airplane, 1 kite, 5.4ms\n",
      "video 1/1 (180/239) /home/icclab/Documents/playground/label_anything/data/YoutubeVideos/Fly_over_the_Oceans.mp4: 640x384 1 airplane, 1 kite, 5.3ms\n",
      "video 1/1 (181/239) /home/icclab/Documents/playground/label_anything/data/YoutubeVideos/Fly_over_the_Oceans.mp4: 640x384 2 kites, 5.5ms\n",
      "video 1/1 (182/239) /home/icclab/Documents/playground/label_anything/data/YoutubeVideos/Fly_over_the_Oceans.mp4: 640x384 2 kites, 5.4ms\n",
      "video 1/1 (183/239) /home/icclab/Documents/playground/label_anything/data/YoutubeVideos/Fly_over_the_Oceans.mp4: 640x384 2 kites, 5.3ms\n",
      "video 1/1 (184/239) /home/icclab/Documents/playground/label_anything/data/YoutubeVideos/Fly_over_the_Oceans.mp4: 640x384 2 kites, 5.3ms\n",
      "video 1/1 (185/239) /home/icclab/Documents/playground/label_anything/data/YoutubeVideos/Fly_over_the_Oceans.mp4: 640x384 1 kite, 5.4ms\n",
      "video 1/1 (186/239) /home/icclab/Documents/playground/label_anything/data/YoutubeVideos/Fly_over_the_Oceans.mp4: 640x384 1 kite, 5.3ms\n",
      "video 1/1 (187/239) /home/icclab/Documents/playground/label_anything/data/YoutubeVideos/Fly_over_the_Oceans.mp4: 640x384 1 kite, 5.3ms\n",
      "video 1/1 (188/239) /home/icclab/Documents/playground/label_anything/data/YoutubeVideos/Fly_over_the_Oceans.mp4: 640x384 2 kites, 5.5ms\n",
      "video 1/1 (189/239) /home/icclab/Documents/playground/label_anything/data/YoutubeVideos/Fly_over_the_Oceans.mp4: 640x384 2 kites, 5.4ms\n",
      "video 1/1 (190/239) /home/icclab/Documents/playground/label_anything/data/YoutubeVideos/Fly_over_the_Oceans.mp4: 640x384 2 kites, 5.3ms\n",
      "video 1/1 (191/239) /home/icclab/Documents/playground/label_anything/data/YoutubeVideos/Fly_over_the_Oceans.mp4: 640x384 1 airplane, 5.8ms\n",
      "video 1/1 (192/239) /home/icclab/Documents/playground/label_anything/data/YoutubeVideos/Fly_over_the_Oceans.mp4: 640x384 2 kites, 6.1ms\n",
      "video 1/1 (193/239) /home/icclab/Documents/playground/label_anything/data/YoutubeVideos/Fly_over_the_Oceans.mp4: 640x384 2 kites, 5.1ms\n",
      "video 1/1 (194/239) /home/icclab/Documents/playground/label_anything/data/YoutubeVideos/Fly_over_the_Oceans.mp4: 640x384 1 kite, 4.9ms\n",
      "video 1/1 (195/239) /home/icclab/Documents/playground/label_anything/data/YoutubeVideos/Fly_over_the_Oceans.mp4: 640x384 1 kite, 4.7ms\n",
      "video 1/1 (196/239) /home/icclab/Documents/playground/label_anything/data/YoutubeVideos/Fly_over_the_Oceans.mp4: 640x384 1 kite, 4.7ms\n",
      "video 1/1 (197/239) /home/icclab/Documents/playground/label_anything/data/YoutubeVideos/Fly_over_the_Oceans.mp4: 640x384 1 kite, 4.6ms\n",
      "video 1/1 (198/239) /home/icclab/Documents/playground/label_anything/data/YoutubeVideos/Fly_over_the_Oceans.mp4: 640x384 1 kite, 4.5ms\n",
      "video 1/1 (199/239) /home/icclab/Documents/playground/label_anything/data/YoutubeVideos/Fly_over_the_Oceans.mp4: 640x384 1 kite, 4.5ms\n",
      "video 1/1 (200/239) /home/icclab/Documents/playground/label_anything/data/YoutubeVideos/Fly_over_the_Oceans.mp4: 640x384 1 airplane, 1 kite, 4.8ms\n",
      "video 1/1 (201/239) /home/icclab/Documents/playground/label_anything/data/YoutubeVideos/Fly_over_the_Oceans.mp4: 640x384 1 kite, 4.4ms\n",
      "video 1/1 (202/239) /home/icclab/Documents/playground/label_anything/data/YoutubeVideos/Fly_over_the_Oceans.mp4: 640x384 1 kite, 4.3ms\n",
      "video 1/1 (203/239) /home/icclab/Documents/playground/label_anything/data/YoutubeVideos/Fly_over_the_Oceans.mp4: 640x384 1 kite, 4.5ms\n",
      "video 1/1 (204/239) /home/icclab/Documents/playground/label_anything/data/YoutubeVideos/Fly_over_the_Oceans.mp4: 640x384 1 airplane, 1 kite, 4.3ms\n",
      "video 1/1 (205/239) /home/icclab/Documents/playground/label_anything/data/YoutubeVideos/Fly_over_the_Oceans.mp4: 640x384 1 kite, 4.3ms\n",
      "video 1/1 (206/239) /home/icclab/Documents/playground/label_anything/data/YoutubeVideos/Fly_over_the_Oceans.mp4: 640x384 1 kite, 4.3ms\n",
      "video 1/1 (207/239) /home/icclab/Documents/playground/label_anything/data/YoutubeVideos/Fly_over_the_Oceans.mp4: 640x384 1 kite, 4.3ms\n",
      "video 1/1 (208/239) /home/icclab/Documents/playground/label_anything/data/YoutubeVideos/Fly_over_the_Oceans.mp4: 640x384 1 kite, 4.3ms\n",
      "video 1/1 (209/239) /home/icclab/Documents/playground/label_anything/data/YoutubeVideos/Fly_over_the_Oceans.mp4: 640x384 1 kite, 4.8ms\n",
      "video 1/1 (210/239) /home/icclab/Documents/playground/label_anything/data/YoutubeVideos/Fly_over_the_Oceans.mp4: 640x384 1 kite, 4.2ms\n",
      "video 1/1 (211/239) /home/icclab/Documents/playground/label_anything/data/YoutubeVideos/Fly_over_the_Oceans.mp4: 640x384 1 kite, 4.2ms\n",
      "video 1/1 (212/239) /home/icclab/Documents/playground/label_anything/data/YoutubeVideos/Fly_over_the_Oceans.mp4: 640x384 1 kite, 4.3ms\n",
      "video 1/1 (213/239) /home/icclab/Documents/playground/label_anything/data/YoutubeVideos/Fly_over_the_Oceans.mp4: 640x384 1 kite, 4.3ms\n",
      "video 1/1 (214/239) /home/icclab/Documents/playground/label_anything/data/YoutubeVideos/Fly_over_the_Oceans.mp4: 640x384 1 kite, 4.3ms\n",
      "video 1/1 (215/239) /home/icclab/Documents/playground/label_anything/data/YoutubeVideos/Fly_over_the_Oceans.mp4: 640x384 1 kite, 4.4ms\n",
      "video 1/1 (216/239) /home/icclab/Documents/playground/label_anything/data/YoutubeVideos/Fly_over_the_Oceans.mp4: 640x384 1 kite, 5.6ms\n",
      "video 1/1 (217/239) /home/icclab/Documents/playground/label_anything/data/YoutubeVideos/Fly_over_the_Oceans.mp4: 640x384 1 kite, 4.5ms\n",
      "video 1/1 (218/239) /home/icclab/Documents/playground/label_anything/data/YoutubeVideos/Fly_over_the_Oceans.mp4: 640x384 1 kite, 4.6ms\n",
      "video 1/1 (219/239) /home/icclab/Documents/playground/label_anything/data/YoutubeVideos/Fly_over_the_Oceans.mp4: 640x384 1 kite, 4.4ms\n",
      "video 1/1 (220/239) /home/icclab/Documents/playground/label_anything/data/YoutubeVideos/Fly_over_the_Oceans.mp4: 640x384 1 kite, 4.3ms\n",
      "video 1/1 (221/239) /home/icclab/Documents/playground/label_anything/data/YoutubeVideos/Fly_over_the_Oceans.mp4: 640x384 1 kite, 4.3ms\n",
      "video 1/1 (222/239) /home/icclab/Documents/playground/label_anything/data/YoutubeVideos/Fly_over_the_Oceans.mp4: 640x384 1 kite, 4.3ms\n",
      "video 1/1 (223/239) /home/icclab/Documents/playground/label_anything/data/YoutubeVideos/Fly_over_the_Oceans.mp4: 640x384 1 kite, 4.6ms\n",
      "video 1/1 (224/239) /home/icclab/Documents/playground/label_anything/data/YoutubeVideos/Fly_over_the_Oceans.mp4: 640x384 1 kite, 4.3ms\n",
      "video 1/1 (225/239) /home/icclab/Documents/playground/label_anything/data/YoutubeVideos/Fly_over_the_Oceans.mp4: 640x384 1 kite, 4.3ms\n",
      "video 1/1 (226/239) /home/icclab/Documents/playground/label_anything/data/YoutubeVideos/Fly_over_the_Oceans.mp4: 640x384 1 kite, 4.4ms\n",
      "video 1/1 (227/239) /home/icclab/Documents/playground/label_anything/data/YoutubeVideos/Fly_over_the_Oceans.mp4: 640x384 1 kite, 4.4ms\n",
      "video 1/1 (228/239) /home/icclab/Documents/playground/label_anything/data/YoutubeVideos/Fly_over_the_Oceans.mp4: 640x384 1 kite, 4.2ms\n",
      "video 1/1 (229/239) /home/icclab/Documents/playground/label_anything/data/YoutubeVideos/Fly_over_the_Oceans.mp4: 640x384 1 kite, 4.3ms\n",
      "video 1/1 (230/239) /home/icclab/Documents/playground/label_anything/data/YoutubeVideos/Fly_over_the_Oceans.mp4: 640x384 1 kite, 4.3ms\n",
      "video 1/1 (231/239) /home/icclab/Documents/playground/label_anything/data/YoutubeVideos/Fly_over_the_Oceans.mp4: 640x384 1 kite, 4.1ms\n",
      "video 1/1 (232/239) /home/icclab/Documents/playground/label_anything/data/YoutubeVideos/Fly_over_the_Oceans.mp4: 640x384 1 kite, 4.7ms\n",
      "video 1/1 (233/239) /home/icclab/Documents/playground/label_anything/data/YoutubeVideos/Fly_over_the_Oceans.mp4: 640x384 1 kite, 4.3ms\n",
      "video 1/1 (234/239) /home/icclab/Documents/playground/label_anything/data/YoutubeVideos/Fly_over_the_Oceans.mp4: 640x384 1 kite, 4.2ms\n",
      "video 1/1 (235/239) /home/icclab/Documents/playground/label_anything/data/YoutubeVideos/Fly_over_the_Oceans.mp4: 640x384 1 kite, 4.2ms\n",
      "video 1/1 (236/239) /home/icclab/Documents/playground/label_anything/data/YoutubeVideos/Fly_over_the_Oceans.mp4: 640x384 1 kite, 4.3ms\n",
      "Speed: 0.3ms pre-process, 5.2ms inference, 0.7ms NMS per image at shape (1, 3, 640, 640)\n",
      "Results saved to \u001b[1mruns/detect/exp2\u001b[0m\n"
     ]
    }
   ],
   "source": [
    "!python detect.py --weights yolov5s.pt --img 640 --conf 0.25 --source /home/icclab/Documents/playground/label_anything/data/YoutubeVideos/Fly_over_the_Oceans.mp4\n",
    "# display.Image(filename='runs/detect/exp/zidane.jpg', width=600)"
   ]
  },
  {
   "cell_type": "markdown",
   "metadata": {
    "id": "hkAzDWJ7cWTr"
   },
   "source": [
    "&nbsp;&nbsp;&nbsp;&nbsp;&nbsp;&nbsp;&nbsp;&nbsp;\n",
    "<img align=\"left\" src=\"https://user-images.githubusercontent.com/26833433/127574988-6a558aa1-d268-44b9-bf6b-62d4c605cc72.jpg\" width=\"600\">"
   ]
  },
  {
   "cell_type": "markdown",
   "metadata": {
    "id": "0eq1SMWl6Sfn"
   },
   "source": [
    "# 2. Validate\n",
    "Validate a model's accuracy on the [COCO](https://cocodataset.org/#home) dataset's `val` or `test` splits. Models are downloaded automatically from the [latest YOLOv5 release](https://github.com/ultralytics/yolov5/releases). To show results by class use the `--verbose` flag."
   ]
  },
  {
   "cell_type": "code",
   "execution_count": null,
   "metadata": {
    "colab": {
     "base_uri": "https://localhost:8080/"
    },
    "id": "WQPtK1QYVaD_",
    "outputId": "cf7d52f0-281c-4c96-a488-79f5908f8426"
   },
   "outputs": [],
   "source": [
    "# Download COCO val\n",
    "torch.hub.download_url_to_file('https://github.com/ultralytics/assets/releases/download/v0.0.0/coco2017val.zip', 'tmp.zip')  # download (780M - 5000 images)\n",
    "!unzip -q tmp.zip -d ../datasets && rm tmp.zip  # unzip"
   ]
  },
  {
   "cell_type": "code",
   "execution_count": null,
   "metadata": {
    "colab": {
     "base_uri": "https://localhost:8080/"
    },
    "id": "X58w8JLpMnjH",
    "outputId": "3e234e05-ee8b-4ad1-b1a4-f6a55d5e4f3d"
   },
   "outputs": [],
   "source": [
    "# Validate YOLOv5s on COCO val\n",
    "!python val.py --weights yolov5s.pt --data coco.yaml --img 640 --half"
   ]
  },
  {
   "cell_type": "markdown",
   "metadata": {
    "id": "ZY2VXXXu74w5"
   },
   "source": [
    "# 3. Train\n",
    "\n",
    "<p align=\"\"><a href=\"https://ultralytics.com/hub\"><img width=\"1000\" src=\"https://github.com/ultralytics/assets/raw/main/im/integrations-loop.png\"/></a></p>\n",
    "Close the active learning loop by sampling images from your inference conditions with the `roboflow` pip package\n",
    "<br><br>\n",
    "\n",
    "Train a YOLOv5s model on the [COCO128](https://www.kaggle.com/datasets/ultralytics/coco128) dataset with `--data coco128.yaml`, starting from pretrained `--weights yolov5s.pt`, or from randomly initialized `--weights '' --cfg yolov5s.yaml`.\n",
    "\n",
    "- **Pretrained [Models](https://github.com/ultralytics/yolov5/tree/master/models)** are downloaded\n",
    "automatically from the [latest YOLOv5 release](https://github.com/ultralytics/yolov5/releases)\n",
    "- **[Datasets](https://github.com/ultralytics/yolov5/tree/master/data)** available for autodownload include: [COCO](https://github.com/ultralytics/yolov5/blob/master/data/coco.yaml), [COCO128](https://github.com/ultralytics/yolov5/blob/master/data/coco128.yaml), [VOC](https://github.com/ultralytics/yolov5/blob/master/data/VOC.yaml), [Argoverse](https://github.com/ultralytics/yolov5/blob/master/data/Argoverse.yaml), [VisDrone](https://github.com/ultralytics/yolov5/blob/master/data/VisDrone.yaml), [GlobalWheat](https://github.com/ultralytics/yolov5/blob/master/data/GlobalWheat2020.yaml), [xView](https://github.com/ultralytics/yolov5/blob/master/data/xView.yaml), [Objects365](https://github.com/ultralytics/yolov5/blob/master/data/Objects365.yaml), [SKU-110K](https://github.com/ultralytics/yolov5/blob/master/data/SKU-110K.yaml).\n",
    "- **Training Results** are saved to `runs/train/` with incrementing run directories, i.e. `runs/train/exp2`, `runs/train/exp3` etc.\n",
    "<br>\n",
    "\n",
    "A **Mosaic Dataloader** is used for training which combines 4 images into 1 mosaic."
   ]
  },
  {
   "cell_type": "code",
   "execution_count": null,
   "metadata": {
    "id": "i3oKtE4g-aNn"
   },
   "outputs": [],
   "source": [
    "#@title Select YOLOv5 🚀 logger {run: 'auto'}\n",
    "logger = 'Comet' #@param ['Comet', 'ClearML', 'TensorBoard']\n",
    "\n",
    "if logger == 'Comet':\n",
    "  %pip install -q comet_ml\n",
    "  import comet_ml; comet_ml.init()\n",
    "elif logger == 'ClearML':\n",
    "  %pip install -q clearml\n",
    "  import clearml; clearml.browser_login()\n",
    "elif logger == 'TensorBoard':\n",
    "  %load_ext tensorboard\n",
    "  %tensorboard --logdir runs/train"
   ]
  },
  {
   "cell_type": "code",
   "execution_count": null,
   "metadata": {
    "colab": {
     "base_uri": "https://localhost:8080/"
    },
    "id": "1NcFxRcFdJ_O",
    "outputId": "bbeeea2b-04fc-4185-aa64-258690495b5a"
   },
   "outputs": [],
   "source": [
    "# Train YOLOv5s on COCO128 for 3 epochs\n",
    "!python train.py --img 640 --batch 16 --epochs 3 --data coco128.yaml --weights yolov5s.pt --cache"
   ]
  },
  {
   "cell_type": "markdown",
   "metadata": {
    "id": "15glLzbQx5u0"
   },
   "source": [
    "# 4. Visualize"
   ]
  },
  {
   "cell_type": "markdown",
   "metadata": {
    "id": "nWOsI5wJR1o3"
   },
   "source": [
    "## Comet Logging and Visualization 🌟 NEW\n",
    "\n",
    "[Comet](https://www.comet.com/site/lp/yolov5-with-comet/?utm_source=yolov5&utm_medium=partner&utm_campaign=partner_yolov5_2022&utm_content=yolov5_colab) is now fully integrated with YOLOv5. Track and visualize model metrics in real time, save your hyperparameters, datasets, and model checkpoints, and visualize your model predictions with [Comet Custom Panels](https://www.comet.com/docs/v2/guides/comet-dashboard/code-panels/about-panels/?utm_source=yolov5&utm_medium=partner&utm_campaign=partner_yolov5_2022&utm_content=yolov5_colab)! Comet makes sure you never lose track of your work and makes it easy to share results and collaborate across teams of all sizes!\n",
    "\n",
    "Getting started is easy:\n",
    "```shell\n",
    "pip install comet_ml  # 1. install\n",
    "export COMET_API_KEY=<Your API Key>  # 2. paste API key\n",
    "python train.py --img 640 --epochs 3 --data coco128.yaml --weights yolov5s.pt  # 3. train\n",
    "```\n",
    "To learn more about all of the supported Comet features for this integration, check out the [Comet Tutorial](https://docs.ultralytics.com/yolov5/tutorials/comet_logging_integration). If you'd like to learn more about Comet, head over to our [documentation](https://www.comet.com/docs/v2/?utm_source=yolov5&utm_medium=partner&utm_campaign=partner_yolov5_2022&utm_content=yolov5_colab). Get started by trying out the Comet Colab Notebook:\n",
    "[![Open In Colab](https://colab.research.google.com/assets/colab-badge.svg)](https://colab.research.google.com/drive/1RG0WOQyxlDlo5Km8GogJpIEJlg_5lyYO?usp=sharing)\n",
    "\n",
    "<a href=\"https://bit.ly/yolov5-readme-comet2\">\n",
    "<img alt=\"Comet Dashboard\" src=\"https://user-images.githubusercontent.com/26833433/202851203-164e94e1-2238-46dd-91f8-de020e9d6b41.png\" width=\"1280\"/></a>"
   ]
  },
  {
   "cell_type": "markdown",
   "metadata": {
    "id": "Lay2WsTjNJzP"
   },
   "source": [
    "## ClearML Logging and Automation 🌟 NEW\n",
    "\n",
    "[ClearML](https://cutt.ly/yolov5-notebook-clearml) is completely integrated into YOLOv5 to track your experimentation, manage dataset versions and even remotely execute training runs. To enable ClearML (check cells above):\n",
    "\n",
    "- `pip install clearml`\n",
    "- run `clearml-init` to connect to a ClearML server (**deploy your own [open-source server](https://github.com/allegroai/clearml-server)**, or use our [free hosted server](https://cutt.ly/yolov5-notebook-clearml))\n",
    "\n",
    "You'll get all the great expected features from an experiment manager: live updates, model upload, experiment comparison etc. but ClearML also tracks uncommitted changes and installed packages for example. Thanks to that ClearML Tasks (which is what we call experiments) are also reproducible on different machines! With only 1 extra line, we can schedule a YOLOv5 training task on a queue to be executed by any number of ClearML Agents (workers).\n",
    "\n",
    "You can use ClearML Data to version your dataset and then pass it to YOLOv5 simply using its unique ID. This will help you keep track of your data without adding extra hassle. Explore the [ClearML Tutorial](https://docs.ultralytics.com/yolov5/tutorials/clearml_logging_integration) for details!\n",
    "\n",
    "<a href=\"https://cutt.ly/yolov5-notebook-clearml\">\n",
    "<img alt=\"ClearML Experiment Management UI\" src=\"https://github.com/thepycoder/clearml_screenshots/raw/main/scalars.jpg\" width=\"1280\"/></a>"
   ]
  },
  {
   "cell_type": "markdown",
   "metadata": {
    "id": "-WPvRbS5Swl6"
   },
   "source": [
    "## Local Logging\n",
    "\n",
    "Training results are automatically logged with [Tensorboard](https://www.tensorflow.org/tensorboard) and [CSV](https://github.com/ultralytics/yolov5/pull/4148) loggers to `runs/train`, with a new experiment directory created for each new training as `runs/train/exp2`, `runs/train/exp3`, etc.\n",
    "\n",
    "This directory contains train and val statistics, mosaics, labels, predictions and augmentated mosaics, as well as metrics and charts including precision-recall (PR) curves and confusion matrices.\n",
    "\n",
    "<img alt=\"Local logging results\" src=\"https://user-images.githubusercontent.com/26833433/183222430-e1abd1b7-782c-4cde-b04d-ad52926bf818.jpg\" width=\"1280\"/>\n"
   ]
  },
  {
   "cell_type": "markdown",
   "metadata": {
    "id": "Zelyeqbyt3GD"
   },
   "source": [
    "# Environments\n",
    "\n",
    "YOLOv5 may be run in any of the following up-to-date verified environments (with all dependencies including [CUDA](https://developer.nvidia.com/cuda)/[CUDNN](https://developer.nvidia.com/cudnn), [Python](https://www.python.org/) and [PyTorch](https://pytorch.org/) preinstalled):\n",
    "\n",
    "- **Notebooks** with free GPU: <a href=\"https://bit.ly/yolov5-paperspace-notebook\"><img src=\"https://assets.paperspace.io/img/gradient-badge.svg\" alt=\"Run on Gradient\"></a> <a href=\"https://colab.research.google.com/github/ultralytics/yolov5/blob/master/tutorial.ipynb\"><img src=\"https://colab.research.google.com/assets/colab-badge.svg\" alt=\"Open In Colab\"></a> <a href=\"https://www.kaggle.com/models/ultralytics/yolov5\"><img src=\"https://kaggle.com/static/images/open-in-kaggle.svg\" alt=\"Open In Kaggle\"></a>\n",
    "- **Google Cloud** Deep Learning VM. See [GCP Quickstart Guide](https://docs.ultralytics.com/yolov5/environments/google_cloud_quickstart_tutorial/)\n",
    "- **Amazon** Deep Learning AMI. See [AWS Quickstart Guide](https://docs.ultralytics.com/yolov5/environments/aws_quickstart_tutorial/)\n",
    "- **Docker Image**. See [Docker Quickstart Guide](https://docs.ultralytics.com/yolov5/environments/docker_image_quickstart_tutorial/) <a href=\"https://hub.docker.com/r/ultralytics/yolov5\"><img src=\"https://img.shields.io/docker/pulls/ultralytics/yolov5?logo=docker\" alt=\"Docker Pulls\"></a>\n"
   ]
  },
  {
   "cell_type": "markdown",
   "metadata": {
    "id": "6Qu7Iesl0p54"
   },
   "source": [
    "# Status\n",
    "\n",
    "![YOLOv5 CI](https://github.com/ultralytics/yolov5/actions/workflows/ci-testing.yml/badge.svg)\n",
    "\n",
    "If this badge is green, all [YOLOv5 GitHub Actions](https://github.com/ultralytics/yolov5/actions) Continuous Integration (CI) tests are currently passing. CI tests verify correct operation of YOLOv5 training ([train.py](https://github.com/ultralytics/yolov5/blob/master/train.py)), testing ([val.py](https://github.com/ultralytics/yolov5/blob/master/val.py)), inference ([detect.py](https://github.com/ultralytics/yolov5/blob/master/detect.py)) and export ([export.py](https://github.com/ultralytics/yolov5/blob/master/export.py)) on macOS, Windows, and Ubuntu every 24 hours and on every commit.\n"
   ]
  },
  {
   "cell_type": "markdown",
   "metadata": {
    "id": "IEijrePND_2I"
   },
   "source": [
    "# Appendix\n",
    "\n",
    "Additional content below."
   ]
  },
  {
   "cell_type": "code",
   "execution_count": null,
   "metadata": {
    "id": "GMusP4OAxFu6"
   },
   "outputs": [],
   "source": [
    "# YOLOv5 PyTorch HUB Inference (DetectionModels only)\n",
    "import torch\n",
    "\n",
    "model = torch.hub.load('ultralytics/yolov5', 'yolov5s', force_reload=True, trust_repo=True)  # or yolov5n - yolov5x6 or custom\n",
    "im = 'https://ultralytics.com/images/zidane.jpg'  # file, Path, PIL.Image, OpenCV, nparray, list\n",
    "results = model(im)  # inference\n",
    "results.print()  # or .show(), .save(), .crop(), .pandas(), etc."
   ]
  }
 ],
 "metadata": {
  "accelerator": "GPU",
  "colab": {
   "name": "YOLOv5 Tutorial",
   "provenance": []
  },
  "kernelspec": {
   "display_name": "dino",
   "language": "python",
   "name": "python3"
  },
  "language_info": {
   "codemirror_mode": {
    "name": "ipython",
    "version": 3
   },
   "file_extension": ".py",
   "mimetype": "text/x-python",
   "name": "python",
   "nbconvert_exporter": "python",
   "pygments_lexer": "ipython3",
   "version": "3.9.23"
  }
 },
 "nbformat": 4,
 "nbformat_minor": 0
}
